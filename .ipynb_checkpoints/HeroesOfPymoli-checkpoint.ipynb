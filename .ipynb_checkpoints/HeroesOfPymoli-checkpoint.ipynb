{
 "cells": [
  {
   "cell_type": "code",
   "execution_count": null,
   "metadata": {},
   "outputs": [],
   "source": [
    " # Dependencies and Setup\n",
    "import pandas as pd"
   ]
  },
  {
   "cell_type": "code",
   "execution_count": null,
   "metadata": {},
   "outputs": [],
   "source": [
    "# File to Load (Remember to Change These)\n",
    "file_to_load = \"purchase_data.csv\""
   ]
  },
  {
   "cell_type": "code",
   "execution_count": null,
   "metadata": {},
   "outputs": [],
   "source": [
    "# Read Purchasing File and store into Pandas data frame\n",
    "purchase_data = pd.read_csv(file_to_load)\n",
    "\n",
    "purchase_data.head()"
   ]
  },
  {
   "cell_type": "code",
   "execution_count": null,
   "metadata": {},
   "outputs": [],
   "source": [
    "purchase_data = purchase_data.dropna(how=\"any\")"
   ]
  },
  {
   "cell_type": "markdown",
   "metadata": {},
   "source": [
    "# Player Count"
   ]
  },
  {
   "cell_type": "code",
   "execution_count": null,
   "metadata": {},
   "outputs": [],
   "source": [
    "#Display the total number of players\n",
    "total_player_unique = purchase_data.groupby(\"SN\")[\"SN\"].nunique()\n",
    "total_player = len(total_player_unique)\n",
    "player_df = pd.DataFrame ({\"Total Players\": [total_player]})\n",
    "player_df"
   ]
  },
  {
   "cell_type": "markdown",
   "metadata": {},
   "source": [
    "# Purchasing Analysis"
   ]
  },
  {
   "cell_type": "code",
   "execution_count": null,
   "metadata": {},
   "outputs": [],
   "source": [
    "#Getting unique items\n",
    "unique_items = purchase_data[\"Item ID\"].unique()\n",
    "unique_items_len = len(unique_items)\n",
    "\n",
    "#Calculating the average price\n",
    "average_price = purchase_data[\"Price\"].mean()\n",
    "\n",
    "#Calculating total number of pruchases\n",
    "totalPurchases = purchase_data['Purchase ID'].count()\n",
    "\n",
    "#Total Revenue\n",
    "total_revenue = purchase_data[\"Price\"].sum()\n",
    "\n",
    "#Storing the results into a dataframe\n",
    "purchasing_analysis_df = pd.DataFrame({\"Number of Unique Items\": [unique_items_len],\n",
    "                                      \"Average Price\": [average_price],\n",
    "                                      \"Number of Purchases\": [totalPurchases],\n",
    "                                      \"Total Revenue\": [total_revenue]})\n",
    "\n",
    "#Changing the format for the output\n",
    "purchasing_analysis_df['Average Price'] = purchasing_analysis_df['Average Price'].map('${:.2f}'.format)\n",
    "purchasing_analysis_df['Total Revenue'] = purchasing_analysis_df['Total Revenue'].map('${:.2f}'.format)\n",
    "\n",
    "#Displaying the the dataframe to the screen\n",
    "purchasing_analysis_df"
   ]
  },
  {
   "cell_type": "markdown",
   "metadata": {},
   "source": [
    "# Gender Demographics"
   ]
  },
  {
   "cell_type": "code",
   "execution_count": null,
   "metadata": {},
   "outputs": [],
   "source": [
    "#Creating a copy of the dataframe to filter out unique players\n",
    "gender_demo = purchase_data.drop_duplicates([\"SN\"])\n",
    "\n",
    "#Percentage and Count Of Male Players\n",
    "count_male = gender_demo.loc[gender_demo[\"Gender\"] == \"Male\"]\n",
    "total_male = len(count_male)\n",
    "perc_male = (total_male/total_player)*100\n",
    "\n",
    "#Count of Female Players\n",
    "count_female = gender_demo.loc[gender_demo[\"Gender\"] == \"Female\", :]\n",
    "total_female = len(count_female)\n",
    "perc_female = (total_female/total_player)*100\n",
    "\n",
    "#Percentage and count of Other/Non-Disclosed\n",
    "other_count = gender_demo.loc[gender_demo[\"Gender\"] == \"Other / Non-Disclosed\", :]\n",
    "total_other = len(other_count)\n",
    "perc_other = (total_other/total_player)*100\n",
    "\n",
    "#Storing the results into the dataframe\n",
    "gender_demo = pd.DataFrame({\"Total Count\": [total_male,total_female, total_other],\n",
    "                            \"Percentage of Players\": [perc_male, perc_female, perc_other]},\n",
    "                           index = [\"Males\",\"Females\", \"Other/Non-Disclosed\"])\n",
    "\n",
    "#Changing the format for output\n",
    "gender_demo['Percentage of Players'] = gender_demo['Percentage of Players'].map('{:.2f}%'.format)\n",
    "\n",
    "#Displaying the results\n",
    "gender_demo"
   ]
  },
  {
   "cell_type": "markdown",
   "metadata": {},
   "source": [
    "# Purchasing Analysis(Gender)"
   ]
  },
  {
   "cell_type": "code",
   "execution_count": null,
   "metadata": {},
   "outputs": [],
   "source": [
    "#Getting the purchase count for each gender\n",
    "pcount_female=  len(purchase_data.loc[purchase_data[\"Gender\"] == \"Female\"])\n",
    "pcount_male = len(purchase_data.loc[purchase_data[\"Gender\"] == \"Male\"])\n",
    "pcount_other =  len(purchase_data.loc[purchase_data[\"Gender\"] == \"Other / Non-Disclosed\"])\n",
    "\n",
    "#Defined a dataframe for the output\n",
    "purch_ana = pd.DataFrame({\"Purchase Count\": [pcount_female, pcount_male, pcount_other],\n",
    "                        \"Gender\": [\"Female\", \"Male\", \"Other/Non-Disclosed\"]})\n",
    "\n",
    "#Setting Gender as the index for the dataframe\n",
    "purch_ana = purch_ana.set_index(\"Gender\")\n",
    "\n",
    "#Creating a dataframe with the help of groupby function\n",
    "grouped_df = purchase_data.groupby(['Gender'])\n",
    "\n",
    "#Calculating the average and adding it to the dataframe\n",
    "dfAvg = grouped_df['Price'].mean().reset_index()\n",
    "AvgList = []\n",
    "for i in  dfAvg['Price']:\n",
    "    AvgList.append(i)\n",
    "purch_ana['Average Purchase Price'] = AvgList\n",
    "\n",
    "#Calculating the total price by gender and adding it into the dataframe\n",
    "TotalPriceList = [] \n",
    "df = grouped_df['Price'].sum().reset_index()\n",
    "for i in  df['Price']:\n",
    "   TotalPriceList.append(i)\n",
    "purch_ana['Total Purchase Value'] = TotalPriceList\n",
    "\n",
    "#Calculating the average per person\n",
    "purch_ana['Avg Total Purchase per Person'] = purch_ana['Total Purchase Value']/grouped_df['SN'].nunique()\n",
    "\n",
    "#Changing the format for output\n",
    "purch_ana['Average Purchase Price'] = purch_ana['Average Purchase Price'].map('${:.2f}'.format)\n",
    "purch_ana['Total Purchase Value'] = purch_ana['Total Purchase Value'].map('${:.2f}'.format)\n",
    "purch_ana['Avg Total Purchase per Person'] = purch_ana['Avg Total Purchase per Person'].map('${:.2f}'.format)\n",
    "\n",
    "purch_ana"
   ]
  },
  {
   "cell_type": "markdown",
   "metadata": {},
   "source": [
    "# Age Demographics"
   ]
  },
  {
   "cell_type": "code",
   "execution_count": null,
   "metadata": {},
   "outputs": [],
   "source": [
    "#Created a bin to store the age ranges\n",
    "bins = [0, 9, 14, 19, 24, 29, 34, 39, 99]\n",
    "\n",
    "#Created the group labels to make the cut against\n",
    "group_labels = [\"<10\", \"10-14\", \"15-19\", \n",
    "                \"20-24\", \"25-29\", \"30-34\", \"35-39\", \"40+\"]\n",
    "\n",
    "#Making a copy of the original dataframe to work on Analysis for this section\n",
    "age_demo = purchase_data.copy()\n",
    "\n",
    "#Removing the duplicates in the data\n",
    "age_demo = age_demo.drop_duplicates(['SN'])\n",
    "\n",
    "#Getting the values by binning\n",
    "age_demo[\"Age Ranges\"] = pd.cut(purchase_data[\"Age\"], bins, labels=group_labels)\n",
    "total_count_age = age_demo.groupby(\"Age Ranges\")\n",
    "total = total_count_age[\"SN\"].count()\n",
    "\n",
    "#Creating the dataframe for the output\n",
    "age = pd.DataFrame({\"Total Count\": total})\n",
    "\n",
    "#Calculating the Percentage\n",
    "age[\"Percentage of Players\"] = age[\"Total Count\"]/age[\"Total Count\"].sum() * 100\n",
    "\n",
    "#Changing the format for output\n",
    "age[\"Percentage of Players\"] = age[\"Percentage of Players\"].map('{:.2f}%'.format)\n",
    "\n",
    "#Printing the dataframe\n",
    "age"
   ]
  },
  {
   "cell_type": "markdown",
   "metadata": {},
   "source": [
    "# Purchasing Analysis(Age)"
   ]
  },
  {
   "cell_type": "code",
   "execution_count": null,
   "metadata": {},
   "outputs": [],
   "source": [
    "#Creaating a new dataframe for the analysis in this section\n",
    "age_ana = purchase_data.copy()\n",
    "\n",
    "age_ana[\"Age Ranges\"] = pd.cut(purchase_data[\"Age\"], bins, labels=group_labels)\n",
    "total_age_ana = age_ana.groupby('Age Ranges')\n",
    "total_age_count = total_age_ana['SN'].count()\n",
    "\n",
    "#Storing the value in the output dataframe\n",
    "age_ana_df = pd.DataFrame({\"Purchase Count\": total_age_count})\n",
    "\n",
    "#Calculating average price by this group\n",
    "TotalAvgAge = [] \n",
    "df4 = total_age_ana['Price'].mean().reset_index()\n",
    "for i in  df4['Price']:\n",
    "    TotalAvgAge.append(i)\n",
    "age_ana_df['Average Purchase Price'] =TotalAvgAge\n",
    "\n",
    "#Calculating total price by this group\n",
    "TotalPurchaseAge = [] \n",
    "df3 = total_age_ana['Price'].sum().reset_index()\n",
    "for i in  df3['Price']:\n",
    "    TotalPurchaseAge.append(i)\n",
    "age_ana_df['Total Purchase Value'] =TotalPurchaseAge\n",
    "\n",
    "#Calculating average per person\n",
    "age_ana_df['Avg Total Purchase per Person'] = age_ana_df['Total Purchase Value']/age['Total Count']\n",
    "\n",
    "#Changing the format for output\n",
    "age_ana_df['Average Purchase Price'] = age_ana_df['Average Purchase Price'].map('${:.2f}'.format)\n",
    "age_ana_df['Total Purchase Value'] = age_ana_df['Total Purchase Value'].map('${:.2f}'.format)\n",
    "age_ana_df['Avg Total Purchase per Person'] = age_ana_df['Avg Total Purchase per Person'].map('${:.2f}'.format)\n",
    "\n",
    "#Printing the result\n",
    "age_ana_df"
   ]
  },
  {
   "cell_type": "markdown",
   "metadata": {},
   "source": [
    "# Top Spenders"
   ]
  },
  {
   "cell_type": "code",
   "execution_count": null,
   "metadata": {},
   "outputs": [],
   "source": [
    "#Getting the purchase count  by age ranges\n",
    "top_tot_ana = purchase_data['SN'].value_counts()\n",
    "\n",
    "#Grouping the dataframe by SN\n",
    "top = purchase_data.groupby(['SN'])\n",
    "\n",
    "#Adding those values to the dataframe\n",
    "top_ana = pd.DataFrame({\"Purchase Count\": top_tot_ana})\n",
    "\n",
    "# #Calculating the average of purchase grouped by age ranges\n",
    "avg_age = top['Price'].mean()\n",
    "\n",
    "top_ana['Average Purchase Price'] = avg_age\n",
    "\n",
    "# #Calculating total purchase value by grouped age ranges\n",
    "price_sum = top['Price'].sum()\n",
    "price_sum_list = []\n",
    "\n",
    "top_ana['Total Purchase Value'] = price_sum\n",
    "\n",
    "#Setting the index title for the output table\n",
    "top_ana.index.name = 'SN'\n",
    "\n",
    "# #Sorting the dataframe in descending order\n",
    "top_ana_descen = top_ana.sort_values('Total Purchase Value',ascending=False)\n",
    "\n",
    "#Changing the format for output\n",
    "top_ana_descen['Average Purchase Price'] = top_ana_descen['Average Purchase Price'].map('${:.2f}'.format)\n",
    "top_ana_descen['Total Purchase Value'] = top_ana_descen['Total Purchase Value'].map('${:.2f}'.format)\n",
    "\n",
    "#Printing the output\n",
    "top_ana_descen"
   ]
  },
  {
   "cell_type": "markdown",
   "metadata": {},
   "source": [
    "# Most Popular Items"
   ]
  },
  {
   "cell_type": "code",
   "execution_count": null,
   "metadata": {},
   "outputs": [],
   "source": [
    "#Grouping the dataframe by item id and item name\n",
    "item_id_groupby_df = purchase_data.groupby(['Item ID','Item Name'])\n",
    "\n",
    "#Calculate the purchase count based on group\n",
    "most_purch_count = item_id_groupby_df['Price'].count()\n",
    "\n",
    "#Getting Item price\n",
    "most_item_price = item_id_groupby_df['Price'].mean()\n",
    "\n",
    "#Calculating the purchase value\n",
    "most_purch_value = item_id_groupby_df['Price'].sum()\n",
    "\n",
    "#Storing the results in dataframe\n",
    "most_popular = pd.DataFrame({'Purchase Count': most_purch_count,\n",
    "                             'Item Price': most_item_price,\n",
    "                            'Total Purchase Value': most_purch_value})\n",
    "\n",
    "#Changing the format for output\n",
    "most_popular['Item Price'] = most_popular['Item Price'].map('${:.2f}'.format)\n",
    "most_popular['Total Purchase Value'] = most_popular['Total Purchase Value'].map('${:.2f}'.format)\n",
    "\n",
    "#Sorting the dataframe on the purchase count in descending order\n",
    "most_popular = most_popular.sort_values('Purchase Count', ascending=False).head(5)\n",
    "\n",
    "#Printing the result\n",
    "most_popular"
   ]
  },
  {
   "cell_type": "markdown",
   "metadata": {},
   "source": [
    "# Most Profitable Items"
   ]
  },
  {
   "cell_type": "code",
   "execution_count": null,
   "metadata": {},
   "outputs": [],
   "source": [
    "#Sorting the dataframe on the column total purchase in descending order\n",
    "most_popular.sort_values(['Purchase Count', 'Total Purchase Value'], ascending=False).head(5)"
   ]
  }
 ],
 "metadata": {
  "kernelspec": {
   "display_name": "Python 3",
   "language": "python",
   "name": "python3"
  },
  "language_info": {
   "codemirror_mode": {
    "name": "ipython",
    "version": 3
   },
   "file_extension": ".py",
   "mimetype": "text/x-python",
   "name": "python",
   "nbconvert_exporter": "python",
   "pygments_lexer": "ipython3",
   "version": "3.6.9"
  }
 },
 "nbformat": 4,
 "nbformat_minor": 1
}
